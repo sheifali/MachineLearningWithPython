{
 "cells": [
  {
   "cell_type": "markdown",
   "metadata": {},
   "source": [
    "# Exploratory Data Analysis On Movie Data\n",
    "\n",
    "## Table of Contents\n",
    "<ul>\n",
    "<li><a href=\"#statement\">Problem Statement</a></li>\n",
    "<li><a href=\"#loading\">Data loading and Description</a></li>\n",
    "<li><a href=\"#profiling\">Data Profiling</a></li>\n",
    "<li><a href=\"#eda\">Exploratory Data Analysis</a></li>\n",
    "<li><a href=\"#conclusion\">Conclusion</a></li>\n",
    "</ul>"
   ]
  },
  {
   "cell_type": "markdown",
   "metadata": {
    "collapsed": true
   },
   "source": [
    "<a id='statement'></a>\n",
    "## Problem Statement"
   ]
  },
  {
   "cell_type": "markdown",
   "metadata": {
    "collapsed": true
   },
   "source": [
    "We have around 1000 movie data.Dataset provides some metrics that measure how successful these movies are. These metrics include voting average,popularity and the revenue. It also contains some basic information corresponding to the movie like cast, director,runtime, genre, etc. Any of the these information can be a key to the success of movie.\n",
    "\n",
    "Lets determine the factors which make a movie profitable,Indeed the recipe to make a blockbuster movie?"
   ]
  },
  {
   "cell_type": "markdown",
   "metadata": {},
   "source": [
    "<a id='loading'></a>\n",
    "## Data loading and Description"
   ]
  },
  {
   "cell_type": "markdown",
   "metadata": {},
   "source": [
    "Cinema has always been an Interesting topic,thus the dataset too. It contains plentiful information for exploring the properties that are associated with successful movies.\n",
    "\n",
    "Features for Evaluating the Success of Movies\n",
    "- popularity\n",
    "- vote average score\n",
    "- revenue\n",
    "\n",
    "Potential Key/Features to Affect the Success of a Movie\n",
    "- Budget\n",
    "- Cast\n",
    "- Director\n",
    "- Runtime\n",
    "- Genres\n",
    "- Production Companies\n",
    "- Release Date\n",
    "- Vote Average"
   ]
  },
  {
   "cell_type": "markdown",
   "metadata": {},
   "source": [
    "#### Importing packages and loading data  "
   ]
  },
  {
   "cell_type": "code",
   "execution_count": 1,
   "metadata": {},
   "outputs": [
    {
     "name": "stdout",
     "output_type": "stream",
     "text": [
      "Requirement already satisfied: pandas_profiling in c:\\users\\sheifali.agarwal\\appdata\\local\\continuum\\lib\\site-packages\n",
      "Requirement already satisfied: six>=1.9 in c:\\users\\sheifali.agarwal\\appdata\\local\\continuum\\lib\\site-packages (from pandas_profiling)\n",
      "Requirement already satisfied: jinja2>=2.8 in c:\\users\\sheifali.agarwal\\appdata\\local\\continuum\\lib\\site-packages (from pandas_profiling)\n",
      "Requirement already satisfied: matplotlib>=1.4 in c:\\users\\sheifali.agarwal\\appdata\\local\\continuum\\lib\\site-packages (from pandas_profiling)\n",
      "Requirement already satisfied: pandas>=0.19 in c:\\users\\sheifali.agarwal\\appdata\\local\\continuum\\lib\\site-packages (from pandas_profiling)\n",
      "Requirement already satisfied: MarkupSafe>=0.23 in c:\\users\\sheifali.agarwal\\appdata\\local\\continuum\\lib\\site-packages (from jinja2>=2.8->pandas_profiling)\n",
      "Requirement already satisfied: numpy>=1.7.1 in c:\\users\\sheifali.agarwal\\appdata\\local\\continuum\\lib\\site-packages (from matplotlib>=1.4->pandas_profiling)\n",
      "Requirement already satisfied: python-dateutil>=2.0 in c:\\users\\sheifali.agarwal\\appdata\\local\\continuum\\lib\\site-packages (from matplotlib>=1.4->pandas_profiling)\n",
      "Requirement already satisfied: pytz in c:\\users\\sheifali.agarwal\\appdata\\local\\continuum\\lib\\site-packages (from matplotlib>=1.4->pandas_profiling)\n",
      "Requirement already satisfied: cycler>=0.10 in c:\\users\\sheifali.agarwal\\appdata\\local\\continuum\\lib\\site-packages (from matplotlib>=1.4->pandas_profiling)\n",
      "Requirement already satisfied: pyparsing!=2.0.4,!=2.1.2,!=2.1.6,>=2.0.1 in c:\\users\\sheifali.agarwal\\appdata\\local\\continuum\\lib\\site-packages (from matplotlib>=1.4->pandas_profiling)\n"
     ]
    }
   ],
   "source": [
    "!pip install pandas_profiling"
   ]
  },
  {
   "cell_type": "code",
   "execution_count": 65,
   "metadata": {
    "collapsed": true
   },
   "outputs": [],
   "source": [
    "import numpy as np                                                 # Implemennts milti-dimensional array and matrices\n",
    "import pandas as pd                                                # For data manipulation and analysis\n",
    "import pandas_profiling\n",
    "import matplotlib.pyplot as plt                                    # Plotting library for Python programming language and it's numerical mathematics extension NumPy\n",
    "import seaborn as sns                                              # Provides a high level interface for drawing attractive and informative statistical graphics\n",
    "% matplotlib inline\n",
    "\n",
    "# Importing training dataset using pd.read_csv\n",
    "movie_data = pd.read_csv('C:\\\\data\\\\1000 movies data.csv') "
   ]
  },
  {
   "cell_type": "markdown",
   "metadata": {},
   "source": [
    "<a id='profiling'></a>\n",
    "## Data Profiling"
   ]
  },
  {
   "cell_type": "markdown",
   "metadata": {},
   "source": [
    "#### Understanding data"
   ]
  },
  {
   "cell_type": "code",
   "execution_count": 66,
   "metadata": {},
   "outputs": [
    {
     "name": "stdout",
     "output_type": "stream",
     "text": [
      "<class 'pandas.core.frame.DataFrame'>\n",
      "RangeIndex: 1000 entries, 0 to 999\n",
      "Data columns (total 15 columns):\n",
      "Rank            1000 non-null int64\n",
      "Genre           1000 non-null object\n",
      "Description     1000 non-null object\n",
      "Director        1000 non-null object\n",
      "Actors          1000 non-null object\n",
      "Year            1000 non-null int64\n",
      "Runtime         1000 non-null int64\n",
      "Rating          1000 non-null float64\n",
      "Votes           1000 non-null int64\n",
      "Revenue         876 non-null float64\n",
      "Metascore       936 non-null float64\n",
      "Budget          613 non-null float64\n",
      "Vote_Average    678 non-null float64\n",
      "Popularity      677 non-null float64\n",
      "Title           1000 non-null object\n",
      "dtypes: float64(6), int64(4), object(5)\n",
      "memory usage: 117.3+ KB\n"
     ]
    }
   ],
   "source": [
    "#see the column info and null values in the dataset\n",
    "movie_data.info()"
   ]
  },
  {
   "cell_type": "markdown",
   "metadata": {},
   "source": [
    "From the table above, there are totally 1000 entries and total 14 columns. And there exists some null value in the revenue,metascore,budget,popularity column."
   ]
  },
  {
   "cell_type": "code",
   "execution_count": 67,
   "metadata": {},
   "outputs": [
    {
     "data": {
      "text/html": [
       "<div>\n",
       "<style>\n",
       "    .dataframe thead tr:only-child th {\n",
       "        text-align: right;\n",
       "    }\n",
       "\n",
       "    .dataframe thead th {\n",
       "        text-align: left;\n",
       "    }\n",
       "\n",
       "    .dataframe tbody tr th {\n",
       "        vertical-align: top;\n",
       "    }\n",
       "</style>\n",
       "<table border=\"1\" class=\"dataframe\">\n",
       "  <thead>\n",
       "    <tr style=\"text-align: right;\">\n",
       "      <th></th>\n",
       "      <th>Rank</th>\n",
       "      <th>Year</th>\n",
       "      <th>Runtime</th>\n",
       "      <th>Rating</th>\n",
       "      <th>Votes</th>\n",
       "      <th>Revenue</th>\n",
       "      <th>Metascore</th>\n",
       "      <th>Budget</th>\n",
       "      <th>Vote_Average</th>\n",
       "      <th>Popularity</th>\n",
       "    </tr>\n",
       "  </thead>\n",
       "  <tbody>\n",
       "    <tr>\n",
       "      <th>count</th>\n",
       "      <td>1000.000000</td>\n",
       "      <td>1000.000000</td>\n",
       "      <td>1000.000000</td>\n",
       "      <td>1000.000000</td>\n",
       "      <td>1.000000e+03</td>\n",
       "      <td>8.760000e+02</td>\n",
       "      <td>936.000000</td>\n",
       "      <td>6.130000e+02</td>\n",
       "      <td>678.000000</td>\n",
       "      <td>677.000000</td>\n",
       "    </tr>\n",
       "    <tr>\n",
       "      <th>mean</th>\n",
       "      <td>500.500000</td>\n",
       "      <td>2012.783000</td>\n",
       "      <td>113.172000</td>\n",
       "      <td>6.723200</td>\n",
       "      <td>1.698083e+05</td>\n",
       "      <td>8.407116e+04</td>\n",
       "      <td>58.985043</td>\n",
       "      <td>1.103154e+08</td>\n",
       "      <td>6.494100</td>\n",
       "      <td>2.355988</td>\n",
       "    </tr>\n",
       "    <tr>\n",
       "      <th>std</th>\n",
       "      <td>288.819436</td>\n",
       "      <td>3.205962</td>\n",
       "      <td>18.810908</td>\n",
       "      <td>0.945429</td>\n",
       "      <td>1.887626e+05</td>\n",
       "      <td>2.244572e+06</td>\n",
       "      <td>17.194757</td>\n",
       "      <td>6.961217e+08</td>\n",
       "      <td>0.757841</td>\n",
       "      <td>2.650978</td>\n",
       "    </tr>\n",
       "    <tr>\n",
       "      <th>min</th>\n",
       "      <td>1.000000</td>\n",
       "      <td>2006.000000</td>\n",
       "      <td>66.000000</td>\n",
       "      <td>1.900000</td>\n",
       "      <td>6.100000e+01</td>\n",
       "      <td>0.000000e+00</td>\n",
       "      <td>11.000000</td>\n",
       "      <td>0.000000e+00</td>\n",
       "      <td>3.100000</td>\n",
       "      <td>0.039953</td>\n",
       "    </tr>\n",
       "    <tr>\n",
       "      <th>25%</th>\n",
       "      <td>250.750000</td>\n",
       "      <td>2010.000000</td>\n",
       "      <td>100.000000</td>\n",
       "      <td>6.200000</td>\n",
       "      <td>3.630900e+04</td>\n",
       "      <td>1.327000e+01</td>\n",
       "      <td>47.000000</td>\n",
       "      <td>2.100000e+07</td>\n",
       "      <td>6.100000</td>\n",
       "      <td>0.969354</td>\n",
       "    </tr>\n",
       "    <tr>\n",
       "      <th>50%</th>\n",
       "      <td>500.500000</td>\n",
       "      <td>2014.000000</td>\n",
       "      <td>111.000000</td>\n",
       "      <td>6.800000</td>\n",
       "      <td>1.107990e+05</td>\n",
       "      <td>4.798500e+01</td>\n",
       "      <td>59.500000</td>\n",
       "      <td>4.500000e+07</td>\n",
       "      <td>6.500000</td>\n",
       "      <td>1.640237</td>\n",
       "    </tr>\n",
       "    <tr>\n",
       "      <th>75%</th>\n",
       "      <td>750.250000</td>\n",
       "      <td>2016.000000</td>\n",
       "      <td>123.000000</td>\n",
       "      <td>7.400000</td>\n",
       "      <td>2.399098e+05</td>\n",
       "      <td>1.141975e+02</td>\n",
       "      <td>72.000000</td>\n",
       "      <td>1.080000e+08</td>\n",
       "      <td>7.000000</td>\n",
       "      <td>2.819750</td>\n",
       "    </tr>\n",
       "    <tr>\n",
       "      <th>max</th>\n",
       "      <td>1000.000000</td>\n",
       "      <td>2016.000000</td>\n",
       "      <td>191.000000</td>\n",
       "      <td>9.000000</td>\n",
       "      <td>1.791916e+06</td>\n",
       "      <td>6.600997e+07</td>\n",
       "      <td>100.000000</td>\n",
       "      <td>1.221550e+10</td>\n",
       "      <td>8.200000</td>\n",
       "      <td>32.985763</td>\n",
       "    </tr>\n",
       "  </tbody>\n",
       "</table>\n",
       "</div>"
      ],
      "text/plain": [
       "              Rank         Year      Runtime       Rating         Votes  \\\n",
       "count  1000.000000  1000.000000  1000.000000  1000.000000  1.000000e+03   \n",
       "mean    500.500000  2012.783000   113.172000     6.723200  1.698083e+05   \n",
       "std     288.819436     3.205962    18.810908     0.945429  1.887626e+05   \n",
       "min       1.000000  2006.000000    66.000000     1.900000  6.100000e+01   \n",
       "25%     250.750000  2010.000000   100.000000     6.200000  3.630900e+04   \n",
       "50%     500.500000  2014.000000   111.000000     6.800000  1.107990e+05   \n",
       "75%     750.250000  2016.000000   123.000000     7.400000  2.399098e+05   \n",
       "max    1000.000000  2016.000000   191.000000     9.000000  1.791916e+06   \n",
       "\n",
       "            Revenue   Metascore        Budget  Vote_Average  Popularity  \n",
       "count  8.760000e+02  936.000000  6.130000e+02    678.000000  677.000000  \n",
       "mean   8.407116e+04   58.985043  1.103154e+08      6.494100    2.355988  \n",
       "std    2.244572e+06   17.194757  6.961217e+08      0.757841    2.650978  \n",
       "min    0.000000e+00   11.000000  0.000000e+00      3.100000    0.039953  \n",
       "25%    1.327000e+01   47.000000  2.100000e+07      6.100000    0.969354  \n",
       "50%    4.798500e+01   59.500000  4.500000e+07      6.500000    1.640237  \n",
       "75%    1.141975e+02   72.000000  1.080000e+08      7.000000    2.819750  \n",
       "max    6.600997e+07  100.000000  1.221550e+10      8.200000   32.985763  "
      ]
     },
     "execution_count": 67,
     "metadata": {},
     "output_type": "execute_result"
    }
   ],
   "source": [
    "#descriptive statistics for the data set.\n",
    "movie_data.describe()"
   ]
  },
  {
   "cell_type": "markdown",
   "metadata": {},
   "source": [
    "I assume the zero value in revenue and budget columns are missing values. \n",
    "\n",
    "To decide whether to drop them out or set them as null values, will  count the number of the zero values in the columns."
   ]
  },
  {
   "cell_type": "code",
   "execution_count": 68,
   "metadata": {},
   "outputs": [
    {
     "data": {
      "text/plain": [
       "Revenue\n",
       "0.0    1\n",
       "Name: Rank, dtype: int64"
      ]
     },
     "execution_count": 68,
     "metadata": {},
     "output_type": "execute_result"
    }
   ],
   "source": [
    "df_revenue_count =  movie_data.groupby('Revenue').count()['Rank']\n",
    "df_revenue_count.head(1)"
   ]
  },
  {
   "cell_type": "code",
   "execution_count": 69,
   "metadata": {},
   "outputs": [
    {
     "data": {
      "text/plain": [
       "Budget\n",
       "0.0    2\n",
       "Name: Rank, dtype: int64"
      ]
     },
     "execution_count": 69,
     "metadata": {},
     "output_type": "execute_result"
    }
   ],
   "source": [
    "df_budget_count =  movie_data.groupby('Budget').count()['Rank']\n",
    "df_budget_count.head(1)"
   ]
  },
  {
   "cell_type": "markdown",
   "metadata": {
    "collapsed": true
   },
   "source": [
    "Its just has a small number of zero value rows in both the columns, so I decided to drop it."
   ]
  },
  {
   "cell_type": "markdown",
   "metadata": {},
   "source": [
    "#### Cleaning decision summary\n",
    "1. Drop unnecessary columns for answering those questions : `description`, `title`.\n",
    "2. Drop duplicates(if any)\n",
    "3. Drop zero values columns that with small quantity of zeros : `revenue`,`budget`.\n"
   ]
  },
  {
   "cell_type": "markdown",
   "metadata": {},
   "source": [
    "#### 1. drop unncessary columns : `description`,`title`"
   ]
  },
  {
   "cell_type": "code",
   "execution_count": 70,
   "metadata": {},
   "outputs": [],
   "source": [
    "col = ['Description', 'Title']\n",
    "movie_data.drop(col, axis=1,inplace=True)"
   ]
  },
  {
   "cell_type": "markdown",
   "metadata": {},
   "source": [
    "#### 2. changing the type of popularity column"
   ]
  },
  {
   "cell_type": "code",
   "execution_count": 71,
   "metadata": {},
   "outputs": [
    {
     "data": {
      "text/plain": [
       "Rank              int64\n",
       "Genre            object\n",
       "Director         object\n",
       "Actors           object\n",
       "Year              int64\n",
       "Runtime           int64\n",
       "Rating          float64\n",
       "Votes             int64\n",
       "Revenue         float64\n",
       "Metascore       float64\n",
       "Budget          float64\n",
       "Vote_Average    float64\n",
       "Popularity      float64\n",
       "dtype: object"
      ]
     },
     "execution_count": 71,
     "metadata": {},
     "output_type": "execute_result"
    }
   ],
   "source": [
    "change_cols=['Popularity','Vote_Average']\n",
    "movie_data[change_cols]=movie_data[change_cols].applymap(np.float64)\n",
    "movie_data.dtypes"
   ]
  },
  {
   "cell_type": "markdown",
   "metadata": {},
   "source": [
    "#### 3. drop duplicates"
   ]
  },
  {
   "cell_type": "code",
   "execution_count": 72,
   "metadata": {
    "collapsed": true
   },
   "outputs": [],
   "source": [
    "movie_data = movie_data.drop_duplicates(keep='first')"
   ]
  },
  {
   "cell_type": "code",
   "execution_count": 73,
   "metadata": {},
   "outputs": [
    {
     "name": "stdout",
     "output_type": "stream",
     "text": [
      "<class 'pandas.core.frame.DataFrame'>\n",
      "Int64Index: 1000 entries, 0 to 999\n",
      "Data columns (total 13 columns):\n",
      "Rank            1000 non-null int64\n",
      "Genre           1000 non-null object\n",
      "Director        1000 non-null object\n",
      "Actors          1000 non-null object\n",
      "Year            1000 non-null int64\n",
      "Runtime         1000 non-null int64\n",
      "Rating          1000 non-null float64\n",
      "Votes           1000 non-null int64\n",
      "Revenue         876 non-null float64\n",
      "Metascore       936 non-null float64\n",
      "Budget          613 non-null float64\n",
      "Vote_Average    678 non-null float64\n",
      "Popularity      677 non-null float64\n",
      "dtypes: float64(6), int64(4), object(3)\n",
      "memory usage: 109.4+ KB\n"
     ]
    }
   ],
   "source": [
    "movie_data.info()"
   ]
  },
  {
   "cell_type": "markdown",
   "metadata": {},
   "source": [
    "#### 4. drop column with small quantity of zero value: revenue,budget"
   ]
  },
  {
   "cell_type": "code",
   "execution_count": 74,
   "metadata": {},
   "outputs": [
    {
     "data": {
      "text/html": [
       "<div>\n",
       "<style>\n",
       "    .dataframe thead tr:only-child th {\n",
       "        text-align: right;\n",
       "    }\n",
       "\n",
       "    .dataframe thead th {\n",
       "        text-align: left;\n",
       "    }\n",
       "\n",
       "    .dataframe tbody tr th {\n",
       "        vertical-align: top;\n",
       "    }\n",
       "</style>\n",
       "<table border=\"1\" class=\"dataframe\">\n",
       "  <thead>\n",
       "    <tr style=\"text-align: right;\">\n",
       "      <th></th>\n",
       "      <th>Rank</th>\n",
       "      <th>Genre</th>\n",
       "      <th>Director</th>\n",
       "      <th>Actors</th>\n",
       "      <th>Year</th>\n",
       "      <th>Runtime</th>\n",
       "      <th>Rating</th>\n",
       "      <th>Votes</th>\n",
       "      <th>Revenue</th>\n",
       "      <th>Metascore</th>\n",
       "      <th>Budget</th>\n",
       "      <th>Vote_Average</th>\n",
       "      <th>Popularity</th>\n",
       "    </tr>\n",
       "  </thead>\n",
       "  <tbody>\n",
       "  </tbody>\n",
       "</table>\n",
       "</div>"
      ],
      "text/plain": [
       "Empty DataFrame\n",
       "Columns: [Rank, Genre, Director, Actors, Year, Runtime, Rating, Votes, Revenue, Metascore, Budget, Vote_Average, Popularity]\n",
       "Index: []"
      ]
     },
     "execution_count": 74,
     "metadata": {},
     "output_type": "execute_result"
    }
   ],
   "source": [
    "#filtering\n",
    "movie_data.query('Revenue != 0', inplace=True)\n",
    "movie_data.query('Budget != 0', inplace=True)\n",
    "\n",
    "#checking\n",
    "movie_data.query('Revenue == 0')\n",
    "movie_data.query('Budget == 0')\n"
   ]
  },
  {
   "cell_type": "code",
   "execution_count": 75,
   "metadata": {},
   "outputs": [
    {
     "data": {
      "text/html": [
       "<div>\n",
       "<style>\n",
       "    .dataframe thead tr:only-child th {\n",
       "        text-align: right;\n",
       "    }\n",
       "\n",
       "    .dataframe thead th {\n",
       "        text-align: left;\n",
       "    }\n",
       "\n",
       "    .dataframe tbody tr th {\n",
       "        vertical-align: top;\n",
       "    }\n",
       "</style>\n",
       "<table border=\"1\" class=\"dataframe\">\n",
       "  <thead>\n",
       "    <tr style=\"text-align: right;\">\n",
       "      <th></th>\n",
       "      <th>Rank</th>\n",
       "      <th>Year</th>\n",
       "      <th>Runtime</th>\n",
       "      <th>Rating</th>\n",
       "      <th>Votes</th>\n",
       "      <th>Revenue</th>\n",
       "      <th>Metascore</th>\n",
       "      <th>Budget</th>\n",
       "      <th>Vote_Average</th>\n",
       "      <th>Popularity</th>\n",
       "    </tr>\n",
       "  </thead>\n",
       "  <tbody>\n",
       "    <tr>\n",
       "      <th>count</th>\n",
       "      <td>997.000000</td>\n",
       "      <td>997.000000</td>\n",
       "      <td>997.000000</td>\n",
       "      <td>997.000000</td>\n",
       "      <td>9.970000e+02</td>\n",
       "      <td>8.730000e+02</td>\n",
       "      <td>934.000000</td>\n",
       "      <td>6.110000e+02</td>\n",
       "      <td>676.000000</td>\n",
       "      <td>675.000000</td>\n",
       "    </tr>\n",
       "    <tr>\n",
       "      <th>mean</th>\n",
       "      <td>500.286861</td>\n",
       "      <td>2012.780341</td>\n",
       "      <td>113.221665</td>\n",
       "      <td>6.725176</td>\n",
       "      <td>1.702647e+05</td>\n",
       "      <td>8.436007e+04</td>\n",
       "      <td>59.024625</td>\n",
       "      <td>1.106765e+08</td>\n",
       "      <td>6.495710</td>\n",
       "      <td>2.360197</td>\n",
       "    </tr>\n",
       "    <tr>\n",
       "      <th>std</th>\n",
       "      <td>288.921203</td>\n",
       "      <td>3.208437</td>\n",
       "      <td>18.816916</td>\n",
       "      <td>0.945396</td>\n",
       "      <td>1.888617e+05</td>\n",
       "      <td>2.248424e+06</td>\n",
       "      <td>17.186214</td>\n",
       "      <td>6.972332e+08</td>\n",
       "      <td>0.758144</td>\n",
       "      <td>2.653759</td>\n",
       "    </tr>\n",
       "    <tr>\n",
       "      <th>min</th>\n",
       "      <td>1.000000</td>\n",
       "      <td>2006.000000</td>\n",
       "      <td>66.000000</td>\n",
       "      <td>1.900000</td>\n",
       "      <td>6.100000e+01</td>\n",
       "      <td>1.000000e-02</td>\n",
       "      <td>11.000000</td>\n",
       "      <td>6.500000e+05</td>\n",
       "      <td>3.100000</td>\n",
       "      <td>0.039953</td>\n",
       "    </tr>\n",
       "    <tr>\n",
       "      <th>25%</th>\n",
       "      <td>251.000000</td>\n",
       "      <td>2010.000000</td>\n",
       "      <td>100.000000</td>\n",
       "      <td>6.200000</td>\n",
       "      <td>3.703300e+04</td>\n",
       "      <td>1.365000e+01</td>\n",
       "      <td>47.000000</td>\n",
       "      <td>2.200000e+07</td>\n",
       "      <td>6.100000</td>\n",
       "      <td>0.971907</td>\n",
       "    </tr>\n",
       "    <tr>\n",
       "      <th>50%</th>\n",
       "      <td>500.000000</td>\n",
       "      <td>2014.000000</td>\n",
       "      <td>111.000000</td>\n",
       "      <td>6.800000</td>\n",
       "      <td>1.115580e+05</td>\n",
       "      <td>4.804000e+01</td>\n",
       "      <td>60.000000</td>\n",
       "      <td>4.500000e+07</td>\n",
       "      <td>6.500000</td>\n",
       "      <td>1.647017</td>\n",
       "    </tr>\n",
       "    <tr>\n",
       "      <th>75%</th>\n",
       "      <td>750.000000</td>\n",
       "      <td>2016.000000</td>\n",
       "      <td>123.000000</td>\n",
       "      <td>7.400000</td>\n",
       "      <td>2.403230e+05</td>\n",
       "      <td>1.156000e+02</td>\n",
       "      <td>72.000000</td>\n",
       "      <td>1.090000e+08</td>\n",
       "      <td>7.000000</td>\n",
       "      <td>2.842717</td>\n",
       "    </tr>\n",
       "    <tr>\n",
       "      <th>max</th>\n",
       "      <td>1000.000000</td>\n",
       "      <td>2016.000000</td>\n",
       "      <td>191.000000</td>\n",
       "      <td>9.000000</td>\n",
       "      <td>1.791916e+06</td>\n",
       "      <td>6.600997e+07</td>\n",
       "      <td>100.000000</td>\n",
       "      <td>1.221550e+10</td>\n",
       "      <td>8.200000</td>\n",
       "      <td>32.985763</td>\n",
       "    </tr>\n",
       "  </tbody>\n",
       "</table>\n",
       "</div>"
      ],
      "text/plain": [
       "              Rank         Year     Runtime      Rating         Votes  \\\n",
       "count   997.000000   997.000000  997.000000  997.000000  9.970000e+02   \n",
       "mean    500.286861  2012.780341  113.221665    6.725176  1.702647e+05   \n",
       "std     288.921203     3.208437   18.816916    0.945396  1.888617e+05   \n",
       "min       1.000000  2006.000000   66.000000    1.900000  6.100000e+01   \n",
       "25%     251.000000  2010.000000  100.000000    6.200000  3.703300e+04   \n",
       "50%     500.000000  2014.000000  111.000000    6.800000  1.115580e+05   \n",
       "75%     750.000000  2016.000000  123.000000    7.400000  2.403230e+05   \n",
       "max    1000.000000  2016.000000  191.000000    9.000000  1.791916e+06   \n",
       "\n",
       "            Revenue   Metascore        Budget  Vote_Average  Popularity  \n",
       "count  8.730000e+02  934.000000  6.110000e+02    676.000000  675.000000  \n",
       "mean   8.436007e+04   59.024625  1.106765e+08      6.495710    2.360197  \n",
       "std    2.248424e+06   17.186214  6.972332e+08      0.758144    2.653759  \n",
       "min    1.000000e-02   11.000000  6.500000e+05      3.100000    0.039953  \n",
       "25%    1.365000e+01   47.000000  2.200000e+07      6.100000    0.971907  \n",
       "50%    4.804000e+01   60.000000  4.500000e+07      6.500000    1.647017  \n",
       "75%    1.156000e+02   72.000000  1.090000e+08      7.000000    2.842717  \n",
       "max    6.600997e+07  100.000000  1.221550e+10      8.200000   32.985763  "
      ]
     },
     "execution_count": 75,
     "metadata": {},
     "output_type": "execute_result"
    }
   ],
   "source": [
    "movie_data.describe()"
   ]
  },
  {
   "cell_type": "markdown",
   "metadata": {},
   "source": [
    "### Cleaning Result Summary"
   ]
  },
  {
   "cell_type": "code",
   "execution_count": 76,
   "metadata": {},
   "outputs": [
    {
     "name": "stdout",
     "output_type": "stream",
     "text": [
      "<class 'pandas.core.frame.DataFrame'>\n",
      "Int64Index: 997 entries, 0 to 999\n",
      "Data columns (total 13 columns):\n",
      "Rank            997 non-null int64\n",
      "Genre           997 non-null object\n",
      "Director        997 non-null object\n",
      "Actors          997 non-null object\n",
      "Year            997 non-null int64\n",
      "Runtime         997 non-null int64\n",
      "Rating          997 non-null float64\n",
      "Votes           997 non-null int64\n",
      "Revenue         873 non-null float64\n",
      "Metascore       934 non-null float64\n",
      "Budget          611 non-null float64\n",
      "Vote_Average    676 non-null float64\n",
      "Popularity      675 non-null float64\n",
      "dtypes: float64(6), int64(4), object(3)\n",
      "memory usage: 109.0+ KB\n"
     ]
    }
   ],
   "source": [
    "movie_data.info()"
   ]
  },
  {
   "cell_type": "markdown",
   "metadata": {},
   "source": [
    "we can see that the data now with 997 entries and 14 columns. Each column are almost clear without too many null values.My cleaning goal is also to keep the data integrity from the original one. Although there are some null values in `budget`,`revenue`,`popularity`,`vote_average`  columns, it is still useful for analysis, and in fact the number of their null values are not very huge, so I decided to keep them."
   ]
  },
  {
   "cell_type": "code",
   "execution_count": 77,
   "metadata": {},
   "outputs": [
    {
     "data": {
      "text/html": [
       "<div>\n",
       "<style>\n",
       "    .dataframe thead tr:only-child th {\n",
       "        text-align: right;\n",
       "    }\n",
       "\n",
       "    .dataframe thead th {\n",
       "        text-align: left;\n",
       "    }\n",
       "\n",
       "    .dataframe tbody tr th {\n",
       "        vertical-align: top;\n",
       "    }\n",
       "</style>\n",
       "<table border=\"1\" class=\"dataframe\">\n",
       "  <thead>\n",
       "    <tr style=\"text-align: right;\">\n",
       "      <th></th>\n",
       "      <th>Rank</th>\n",
       "      <th>Year</th>\n",
       "      <th>Runtime</th>\n",
       "      <th>Rating</th>\n",
       "      <th>Votes</th>\n",
       "      <th>Revenue</th>\n",
       "      <th>Metascore</th>\n",
       "      <th>Budget</th>\n",
       "      <th>Vote_Average</th>\n",
       "      <th>Popularity</th>\n",
       "    </tr>\n",
       "  </thead>\n",
       "  <tbody>\n",
       "    <tr>\n",
       "      <th>count</th>\n",
       "      <td>997.000000</td>\n",
       "      <td>997.000000</td>\n",
       "      <td>997.000000</td>\n",
       "      <td>997.000000</td>\n",
       "      <td>9.970000e+02</td>\n",
       "      <td>8.730000e+02</td>\n",
       "      <td>934.000000</td>\n",
       "      <td>6.110000e+02</td>\n",
       "      <td>676.000000</td>\n",
       "      <td>675.000000</td>\n",
       "    </tr>\n",
       "    <tr>\n",
       "      <th>mean</th>\n",
       "      <td>500.286861</td>\n",
       "      <td>2012.780341</td>\n",
       "      <td>113.221665</td>\n",
       "      <td>6.725176</td>\n",
       "      <td>1.702647e+05</td>\n",
       "      <td>8.436007e+04</td>\n",
       "      <td>59.024625</td>\n",
       "      <td>1.106765e+08</td>\n",
       "      <td>6.495710</td>\n",
       "      <td>2.360197</td>\n",
       "    </tr>\n",
       "    <tr>\n",
       "      <th>std</th>\n",
       "      <td>288.921203</td>\n",
       "      <td>3.208437</td>\n",
       "      <td>18.816916</td>\n",
       "      <td>0.945396</td>\n",
       "      <td>1.888617e+05</td>\n",
       "      <td>2.248424e+06</td>\n",
       "      <td>17.186214</td>\n",
       "      <td>6.972332e+08</td>\n",
       "      <td>0.758144</td>\n",
       "      <td>2.653759</td>\n",
       "    </tr>\n",
       "    <tr>\n",
       "      <th>min</th>\n",
       "      <td>1.000000</td>\n",
       "      <td>2006.000000</td>\n",
       "      <td>66.000000</td>\n",
       "      <td>1.900000</td>\n",
       "      <td>6.100000e+01</td>\n",
       "      <td>1.000000e-02</td>\n",
       "      <td>11.000000</td>\n",
       "      <td>6.500000e+05</td>\n",
       "      <td>3.100000</td>\n",
       "      <td>0.039953</td>\n",
       "    </tr>\n",
       "    <tr>\n",
       "      <th>25%</th>\n",
       "      <td>251.000000</td>\n",
       "      <td>2010.000000</td>\n",
       "      <td>100.000000</td>\n",
       "      <td>6.200000</td>\n",
       "      <td>3.703300e+04</td>\n",
       "      <td>1.365000e+01</td>\n",
       "      <td>47.000000</td>\n",
       "      <td>2.200000e+07</td>\n",
       "      <td>6.100000</td>\n",
       "      <td>0.971907</td>\n",
       "    </tr>\n",
       "    <tr>\n",
       "      <th>50%</th>\n",
       "      <td>500.000000</td>\n",
       "      <td>2014.000000</td>\n",
       "      <td>111.000000</td>\n",
       "      <td>6.800000</td>\n",
       "      <td>1.115580e+05</td>\n",
       "      <td>4.804000e+01</td>\n",
       "      <td>60.000000</td>\n",
       "      <td>4.500000e+07</td>\n",
       "      <td>6.500000</td>\n",
       "      <td>1.647017</td>\n",
       "    </tr>\n",
       "    <tr>\n",
       "      <th>75%</th>\n",
       "      <td>750.000000</td>\n",
       "      <td>2016.000000</td>\n",
       "      <td>123.000000</td>\n",
       "      <td>7.400000</td>\n",
       "      <td>2.403230e+05</td>\n",
       "      <td>1.156000e+02</td>\n",
       "      <td>72.000000</td>\n",
       "      <td>1.090000e+08</td>\n",
       "      <td>7.000000</td>\n",
       "      <td>2.842717</td>\n",
       "    </tr>\n",
       "    <tr>\n",
       "      <th>max</th>\n",
       "      <td>1000.000000</td>\n",
       "      <td>2016.000000</td>\n",
       "      <td>191.000000</td>\n",
       "      <td>9.000000</td>\n",
       "      <td>1.791916e+06</td>\n",
       "      <td>6.600997e+07</td>\n",
       "      <td>100.000000</td>\n",
       "      <td>1.221550e+10</td>\n",
       "      <td>8.200000</td>\n",
       "      <td>32.985763</td>\n",
       "    </tr>\n",
       "  </tbody>\n",
       "</table>\n",
       "</div>"
      ],
      "text/plain": [
       "              Rank         Year     Runtime      Rating         Votes  \\\n",
       "count   997.000000   997.000000  997.000000  997.000000  9.970000e+02   \n",
       "mean    500.286861  2012.780341  113.221665    6.725176  1.702647e+05   \n",
       "std     288.921203     3.208437   18.816916    0.945396  1.888617e+05   \n",
       "min       1.000000  2006.000000   66.000000    1.900000  6.100000e+01   \n",
       "25%     251.000000  2010.000000  100.000000    6.200000  3.703300e+04   \n",
       "50%     500.000000  2014.000000  111.000000    6.800000  1.115580e+05   \n",
       "75%     750.000000  2016.000000  123.000000    7.400000  2.403230e+05   \n",
       "max    1000.000000  2016.000000  191.000000    9.000000  1.791916e+06   \n",
       "\n",
       "            Revenue   Metascore        Budget  Vote_Average  Popularity  \n",
       "count  8.730000e+02  934.000000  6.110000e+02    676.000000  675.000000  \n",
       "mean   8.436007e+04   59.024625  1.106765e+08      6.495710    2.360197  \n",
       "std    2.248424e+06   17.186214  6.972332e+08      0.758144    2.653759  \n",
       "min    1.000000e-02   11.000000  6.500000e+05      3.100000    0.039953  \n",
       "25%    1.365000e+01   47.000000  2.200000e+07      6.100000    0.971907  \n",
       "50%    4.804000e+01   60.000000  4.500000e+07      6.500000    1.647017  \n",
       "75%    1.156000e+02   72.000000  1.090000e+08      7.000000    2.842717  \n",
       "max    6.600997e+07  100.000000  1.221550e+10      8.200000   32.985763  "
      ]
     },
     "execution_count": 77,
     "metadata": {},
     "output_type": "execute_result"
    }
   ],
   "source": [
    "movie_data.describe()"
   ]
  },
  {
   "cell_type": "markdown",
   "metadata": {},
   "source": [
    "After deleting the zero values of revenue and budget, we can see the minimum values are more reasonable,"
   ]
  },
  {
   "cell_type": "markdown",
   "metadata": {},
   "source": [
    "<a id='eda'></a>\n",
    "## Exploratory Data Analysis"
   ]
  },
  {
   "cell_type": "markdown",
   "metadata": {
    "collapsed": true
   },
   "source": [
    "- <a href=\"#q1\">Question 1: Number of movie released year by year.</a>\n",
    "\n",
    "- <a href=\"#q2\">Question 2: Popularity Over Years.</a>\n",
    "   \n",
    "- <a href=\"#q3\">Question 3: Genres Trends by Year.</a>\n",
    "\n",
    "- <a href=\"#q4\">Question 4: Properties associated with movies that have high popularity in recent years?</a>\n",
    "\n",
    "  - <a href=\"#q4.1\">Question 4.1: Is revenue associated with movies popularity </a>\n",
    "   \n",
    "  - <a href=\"#q4.2\">Question 4.2: Is budget associated with movies that have high popularity?</a>\n",
    "    \n",
    "  - <a href=\"#q4.3\">Question 4.3: Is runtime associated with movies that have high popularity on average?</a>\n",
    "    \n",
    "  - <a href=\"#q4.4\">Question 4.4: What casts, directors, genres associated with high popularity?</a>\n",
    "  \n",
    "    \n",
    "- <a href=\"#q5\">Question 5: Properties associated with movies that have high voting score in recent years</a>\n",
    "\n",
    "  - <a href=\"#q5.1\">Question 5.1: Is revenue affecting the score rating of the movie</a>\n",
    "    \n",
    "  - <a href=\"#q5.2\">Question 5.2: Is budget associated with movies that have high score?</a>\n",
    "   \n",
    "  - <a href=\"#q5.3\">Question 5.3: Is runtime associated with movies that have high score?</a>\n",
    "   \n",
    "  - <a href=\"#q5.4\">Question 5.4: What casts, directors, genres associated with high score?</a>"
   ]
  },
  {
   "cell_type": "markdown",
   "metadata": {},
   "source": [
    "<a id='q1'></a>\n",
    "## Question 1: Number of movie released"
   ]
  },
  {
   "cell_type": "code",
   "execution_count": 78,
   "metadata": {},
   "outputs": [
    {
     "data": {
      "text/plain": [
       "Year\n",
       "2006     44\n",
       "2007     53\n",
       "2008     52\n",
       "2009     51\n",
       "2010     60\n",
       "2011     62\n",
       "2012     64\n",
       "2013     91\n",
       "2014     97\n",
       "2015    127\n",
       "2016    296\n",
       "Name: Rank, dtype: int64"
      ]
     },
     "execution_count": 78,
     "metadata": {},
     "output_type": "execute_result"
    }
   ],
   "source": [
    "movie_count = movie_data.groupby('Year').count()['Rank']\n",
    "movie_count.head(11)"
   ]
  },
  {
   "cell_type": "code",
   "execution_count": 79,
   "metadata": {},
   "outputs": [
    {
     "data": {
      "image/png": "[encoded data removed]",
      "text/plain": [
       "<matplotlib.figure.Figure at 0xd18cba8>"
      ]
     },
     "metadata": {},
     "output_type": "display_data"
    }
   ],
   "source": [
    "# Visualize the result\n",
    "sns.set_style('darkgrid')\n",
    "x = movie_count.index\n",
    "y = movie_count\n",
    "plt.figure(figsize=(10, 5))\n",
    "#plot line chart \n",
    "plt.plot(x, y, color = 'b')\n",
    "plt.xlabel('Year')\n",
    "plt.ylabel('Number of Movie Released');"
   ]
  },
  {
   "cell_type": "markdown",
   "metadata": {},
   "source": [
    "We can see that the number of movie released are increasing by years since the curve is concave upward. "
   ]
  },
  {
   "cell_type": "markdown",
   "metadata": {},
   "source": [
    "<a id='q2'></a>\n",
    "## Question 2: Popularity Over Years"
   ]
  },
  {
   "cell_type": "markdown",
   "metadata": {},
   "source": [
    "Also have calculated the median of popularity in case if the mean is affected by the outlier"
   ]
  },
  {
   "cell_type": "code",
   "execution_count": 80,
   "metadata": {},
   "outputs": [
    {
     "data": {
      "text/plain": [
       "Year\n",
       "2012    2.543002\n",
       "2013    1.981824\n",
       "2014    3.668101\n",
       "2015    3.047658\n",
       "2016    0.683555\n",
       "Name: Popularity, dtype: float64"
      ]
     },
     "execution_count": 80,
     "metadata": {},
     "output_type": "execute_result"
    }
   ],
   "source": [
    "p_mean = movie_data.groupby('Year').mean()['Popularity']\n",
    "p_mean.tail()"
   ]
  },
  {
   "cell_type": "code",
   "execution_count": 81,
   "metadata": {},
   "outputs": [
    {
     "data": {
      "text/plain": [
       "Year\n",
       "2012    1.653924\n",
       "2013    1.405720\n",
       "2014    2.791507\n",
       "2015    2.075821\n",
       "2016    0.442242\n",
       "Name: Popularity, dtype: float64"
      ]
     },
     "execution_count": 81,
     "metadata": {},
     "output_type": "execute_result"
    }
   ],
   "source": [
    "p_median = movie_data.groupby('Year').median()['Popularity']\n",
    "p_median.tail()"
   ]
  },
  {
   "cell_type": "code",
   "execution_count": 82,
   "metadata": {
    "collapsed": true
   },
   "outputs": [],
   "source": [
    "#Visualize the result\n",
    "index_mean = p_mean.index\n",
    "index_median = p_median.index"
   ]
  },
  {
   "cell_type": "code",
   "execution_count": 83,
   "metadata": {
    "scrolled": true
   },
   "outputs": [
    {
     "data": {
      "text/plain": [
       "<matplotlib.legend.Legend at 0xca65b00>"
      ]
     },
     "execution_count": 83,
     "metadata": {},
     "output_type": "execute_result"
    },
    {
     "data": {
      "image/png": "[encoded data removed]",
      "text/plain": [
       "<matplotlib.figure.Figure at 0xd18c668>"
      ]
     },
     "metadata": {},
     "output_type": "display_data"
    }
   ],
   "source": [
    "sns.set_style('darkgrid')\n",
    "x1, y1 = index_mean, p_mean\n",
    "x2, y2 = index_median, p_median\n",
    "plt.figure(figsize=(9, 4))\n",
    "plt.plot(x1, y1, color = 'b', label = 'mean')\n",
    "plt.plot(x2, y2, color = 'y', label = 'median')\n",
    "plt.title('Popularity Over Years')\n",
    "plt.xlabel('Year')\n",
    "plt.ylabel('Popularity');\n",
    "plt.legend(loc='upper left')"
   ]
  },
  {
   "cell_type": "markdown",
   "metadata": {},
   "source": [
    "We can conclude that on average, popularity over years is going up in recent years. The trend is reasonable due to the eaiser access of movie information nowadays. Moreover, in the Internet age, people can easily watch the content through different sources."
   ]
  },
  {
   "cell_type": "markdown",
   "metadata": {},
   "source": [
    "<a id='q3'></a>\n",
    "## Question 3: Genres Trend By Year"
   ]
  },
  {
   "cell_type": "code",
   "execution_count": 84,
   "metadata": {},
   "outputs": [
    {
     "data": {
      "text/html": [
       "<div>\n",
       "<style>\n",
       "    .dataframe thead tr:only-child th {\n",
       "        text-align: right;\n",
       "    }\n",
       "\n",
       "    .dataframe thead th {\n",
       "        text-align: left;\n",
       "    }\n",
       "\n",
       "    .dataframe tbody tr th {\n",
       "        vertical-align: top;\n",
       "    }\n",
       "</style>\n",
       "<table border=\"1\" class=\"dataframe\">\n",
       "  <thead>\n",
       "    <tr style=\"text-align: right;\">\n",
       "      <th></th>\n",
       "      <th>top</th>\n",
       "      <th>year</th>\n",
       "    </tr>\n",
       "  </thead>\n",
       "  <tbody>\n",
       "    <tr>\n",
       "      <th>Drama</th>\n",
       "      <td>26</td>\n",
       "      <td>2006</td>\n",
       "    </tr>\n",
       "    <tr>\n",
       "      <th>Drama</th>\n",
       "      <td>28</td>\n",
       "      <td>2007</td>\n",
       "    </tr>\n",
       "    <tr>\n",
       "      <th>Action</th>\n",
       "      <td>24</td>\n",
       "      <td>2008</td>\n",
       "    </tr>\n",
       "    <tr>\n",
       "      <th>Drama</th>\n",
       "      <td>23</td>\n",
       "      <td>2009</td>\n",
       "    </tr>\n",
       "    <tr>\n",
       "      <th>Drama</th>\n",
       "      <td>26</td>\n",
       "      <td>2010</td>\n",
       "    </tr>\n",
       "    <tr>\n",
       "      <th>Drama</th>\n",
       "      <td>29</td>\n",
       "      <td>2011</td>\n",
       "    </tr>\n",
       "    <tr>\n",
       "      <th>Drama</th>\n",
       "      <td>28</td>\n",
       "      <td>2012</td>\n",
       "    </tr>\n",
       "    <tr>\n",
       "      <th>Drama</th>\n",
       "      <td>44</td>\n",
       "      <td>2013</td>\n",
       "    </tr>\n",
       "    <tr>\n",
       "      <th>Drama</th>\n",
       "      <td>49</td>\n",
       "      <td>2014</td>\n",
       "    </tr>\n",
       "    <tr>\n",
       "      <th>Drama</th>\n",
       "      <td>74</td>\n",
       "      <td>2015</td>\n",
       "    </tr>\n",
       "    <tr>\n",
       "      <th>Drama</th>\n",
       "      <td>161</td>\n",
       "      <td>2016</td>\n",
       "    </tr>\n",
       "  </tbody>\n",
       "</table>\n",
       "</div>"
      ],
      "text/plain": [
       "        top  year\n",
       "Drama    26  2006\n",
       "Drama    28  2007\n",
       "Action   24  2008\n",
       "Drama    23  2009\n",
       "Drama    26  2010\n",
       "Drama    29  2011\n",
       "Drama    28  2012\n",
       "Drama    44  2013\n",
       "Drama    49  2014\n",
       "Drama    74  2015\n",
       "Drama   161  2016"
      ]
     },
     "execution_count": 84,
     "metadata": {},
     "output_type": "execute_result"
    }
   ],
   "source": [
    "# split genres with ',' character and count the number of times it appeared\n",
    "def find_top(dataframe_col, num):\n",
    "    genres = dataframe_col.str.cat(sep=',').split(',')\n",
    "    new = pd.DataFrame({'top' :genres})\n",
    "    top = new['top'].value_counts().head(num)\n",
    "    return top\n",
    "\n",
    "year = [[2006], [2007], [2008], [2009], [2010],[2011], [2012], [2013], [2014], [2015], [2016]]\n",
    "top_genre = pd.DataFrame()\n",
    "\n",
    "for s in year:\n",
    "    dfn1 = movie_data[movie_data.Year.isin(s)] \n",
    "    dfn2 = pd.DataFrame({'year' :s,'top': find_top(dfn1.Genre,1)})\n",
    "    top_genre = top_genre.append(dfn2)\n",
    "top_genre\n",
    "    "
   ]
  },
  {
   "cell_type": "code",
   "execution_count": 85,
   "metadata": {},
   "outputs": [
    {
     "data": {
      "text/plain": [
       "Text(0.5,1,'Genres Trends by Year')"
      ]
     },
     "execution_count": 85,
     "metadata": {},
     "output_type": "execute_result"
    },
    {
     "data": {
      "image/png": "[encoded data removed]",
      "text/plain": [
       "<matplotlib.figure.Figure at 0xcac3198>"
      ]
     },
     "metadata": {},
     "output_type": "display_data"
    }
   ],
   "source": [
    "# Visualise the result\n",
    "names = [2006,2007,2008,2009,2010,2011,2012,2013,2014,2015,2016]\n",
    "genres = top_genre.index\n",
    "y_pos = np.arange(len(names))\n",
    "fig, ax = plt.subplots()\n",
    "y1 = top_genre.top\n",
    "\n",
    "y2 = top_genre.top\n",
    "ax.barh(y_pos,y1)\n",
    "ax.set_yticks(y_pos)\n",
    "ax.set_yticklabels(genres)\n",
    "ax.set_ylabel('genres')\n",
    "\n",
    "ax2 = ax.twinx()\n",
    "ax2.barh(y_pos,y2)\n",
    "ax2.set_yticks(y_pos)\n",
    "ax2.set_yticklabels(names)\n",
    "ax2.set_ylabel('Year')\n",
    "\n",
    "ax.set_title('Genres Trends by Year')"
   ]
  },
  {
   "cell_type": "markdown",
   "metadata": {},
   "source": [
    "genre Drama are the most filmed in all the years"
   ]
  },
  {
   "cell_type": "markdown",
   "metadata": {},
   "source": [
    "<a id='q4'></a>\n",
    "## Question 4: Properties associated with movies that have high popularity in recent years"
   ]
  },
  {
   "cell_type": "markdown",
   "metadata": {},
   "source": [
    "<a id='q4.1'></a>\n",
    "### Question 4.1: Is revenue associated with movies popularity "
   ]
  },
  {
   "cell_type": "markdown",
   "metadata": {},
   "source": [
    "We cannot infer that the trend up is related to popularity just by looking the revenue trend line chart year by year.\n",
    "\n",
    "Hence, it leads me that what to find out the distribution of popularity look like in terms of different revenue levels. Revenue data contains wide range so lets divide the revenue data into five levels: Low, Medium, Moderately High, High according to their quartile."
   ]
  },
  {
   "cell_type": "code",
   "execution_count": 86,
   "metadata": {
    "collapsed": true
   },
   "outputs": [],
   "source": [
    "#function to divide the revenue data into levels\n",
    "def divide_quantile(dfname ,column_name):\n",
    "    min_value = dfname[column_name].min()\n",
    "    first_quantile = dfname[column_name].describe()[4]\n",
    "    second_quantile = dfname[column_name].describe()[5]\n",
    "    third_quantile = dfname[column_name].describe()[6]\n",
    "    max_value = dfname[column_name].max()\n",
    "\n",
    "    bin_edges = [ min_value, first_quantile, second_quantile, third_quantile, max_value]\n",
    "    bin_names = [ 'Low', 'Medium', 'Moderately High', 'High'] \n",
    "    \n",
    "# Creates revenue_levels column with same rows as revenue column\n",
    "    name = '{}_levels'.format(column_name)\n",
    "    dfname[name] = pd.cut(dfname[column_name], bin_edges, labels=bin_names, include_lowest = True)\n",
    "    return dfname"
   ]
  },
  {
   "cell_type": "code",
   "execution_count": 87,
   "metadata": {},
   "outputs": [
    {
     "name": "stderr",
     "output_type": "stream",
     "text": [
      "C:\\Users\\sheifali.agarwal\\AppData\\Local\\Continuum\\lib\\site-packages\\ipykernel_launcher.py:14: SettingWithCopyWarning: \n",
      "A value is trying to be set on a copy of a slice from a DataFrame.\n",
      "Try using .loc[row_indexer,col_indexer] = value instead\n",
      "\n",
      "See the caveats in the documentation: http://pandas.pydata.org/pandas-docs/stable/indexing.html#indexing-view-versus-copy\n",
      "  \n"
     ]
    }
   ],
   "source": [
    "#choose the recent few years \n",
    "dfyear =[2012,2013,2014,2015,2016]\n",
    "new_df = pd.DataFrame()\n",
    "\n",
    "for year in dfyear:\n",
    "    dfn1 = movie_data.query('Year == \"%s\"' % year) \n",
    "    dfn2 = divide_quantile(dfn1,'Revenue')  \n",
    "    new_df = new_df.append(dfn2) \n"
   ]
  },
  {
   "cell_type": "code",
   "execution_count": 88,
   "metadata": {},
   "outputs": [
    {
     "data": {
      "text/html": [
       "<div>\n",
       "<style>\n",
       "    .dataframe thead tr:only-child th {\n",
       "        text-align: right;\n",
       "    }\n",
       "\n",
       "    .dataframe thead th {\n",
       "        text-align: left;\n",
       "    }\n",
       "\n",
       "    .dataframe tbody tr th {\n",
       "        vertical-align: top;\n",
       "    }\n",
       "</style>\n",
       "<table border=\"1\" class=\"dataframe\">\n",
       "  <thead>\n",
       "    <tr style=\"text-align: right;\">\n",
       "      <th></th>\n",
       "      <th></th>\n",
       "      <th>Rank</th>\n",
       "      <th>Runtime</th>\n",
       "      <th>Rating</th>\n",
       "      <th>Votes</th>\n",
       "      <th>Revenue</th>\n",
       "      <th>Metascore</th>\n",
       "      <th>Budget</th>\n",
       "      <th>Vote_Average</th>\n",
       "      <th>Popularity</th>\n",
       "    </tr>\n",
       "    <tr>\n",
       "      <th>Year</th>\n",
       "      <th>Revenue_levels</th>\n",
       "      <th></th>\n",
       "      <th></th>\n",
       "      <th></th>\n",
       "      <th></th>\n",
       "      <th></th>\n",
       "      <th></th>\n",
       "      <th></th>\n",
       "      <th></th>\n",
       "      <th></th>\n",
       "    </tr>\n",
       "  </thead>\n",
       "  <tbody>\n",
       "    <tr>\n",
       "      <th rowspan=\"4\" valign=\"top\">2012</th>\n",
       "      <th>Low</th>\n",
       "      <td>650.0</td>\n",
       "      <td>113.0</td>\n",
       "      <td>7.15</td>\n",
       "      <td>174189.5</td>\n",
       "      <td>17.210</td>\n",
       "      <td>63.0</td>\n",
       "      <td>17000000.0</td>\n",
       "      <td>6.55</td>\n",
       "      <td>1.169834</td>\n",
       "    </tr>\n",
       "    <tr>\n",
       "      <th>Medium</th>\n",
       "      <td>633.0</td>\n",
       "      <td>98.5</td>\n",
       "      <td>6.45</td>\n",
       "      <td>159244.0</td>\n",
       "      <td>51.860</td>\n",
       "      <td>48.5</td>\n",
       "      <td>30000000.0</td>\n",
       "      <td>6.00</td>\n",
       "      <td>1.374300</td>\n",
       "    </tr>\n",
       "    <tr>\n",
       "      <th>Moderately High</th>\n",
       "      <td>441.0</td>\n",
       "      <td>123.0</td>\n",
       "      <td>6.85</td>\n",
       "      <td>236017.5</td>\n",
       "      <td>89.385</td>\n",
       "      <td>66.0</td>\n",
       "      <td>68250000.0</td>\n",
       "      <td>6.15</td>\n",
       "      <td>1.988952</td>\n",
       "    </tr>\n",
       "    <tr>\n",
       "      <th>High</th>\n",
       "      <td>303.5</td>\n",
       "      <td>139.0</td>\n",
       "      <td>7.30</td>\n",
       "      <td>453183.0</td>\n",
       "      <td>227.955</td>\n",
       "      <td>68.5</td>\n",
       "      <td>167500000.0</td>\n",
       "      <td>6.70</td>\n",
       "      <td>3.664694</td>\n",
       "    </tr>\n",
       "  </tbody>\n",
       "</table>\n",
       "</div>"
      ],
      "text/plain": [
       "                       Rank  Runtime  Rating     Votes  Revenue  Metascore  \\\n",
       "Year Revenue_levels                                                          \n",
       "2012 Low              650.0    113.0    7.15  174189.5   17.210       63.0   \n",
       "     Medium           633.0     98.5    6.45  159244.0   51.860       48.5   \n",
       "     Moderately High  441.0    123.0    6.85  236017.5   89.385       66.0   \n",
       "     High             303.5    139.0    7.30  453183.0  227.955       68.5   \n",
       "\n",
       "                           Budget  Vote_Average  Popularity  \n",
       "Year Revenue_levels                                          \n",
       "2012 Low               17000000.0          6.55    1.169834  \n",
       "     Medium            30000000.0          6.00    1.374300  \n",
       "     Moderately High   68250000.0          6.15    1.988952  \n",
       "     High             167500000.0          6.70    3.664694  "
      ]
     },
     "execution_count": 88,
     "metadata": {},
     "output_type": "execute_result"
    }
   ],
   "source": [
    "# group the dataframe new_df with each revenue levels in each year\n",
    "new_df = new_df.groupby(['Year','Revenue_levels']).median()\n",
    "new_df.head(4)"
   ]
  },
  {
   "cell_type": "code",
   "execution_count": 89,
   "metadata": {},
   "outputs": [
    {
     "name": "stdout",
     "output_type": "stream",
     "text": [
      "Year  Revenue_levels\n",
      "2012  Low               1.169834\n",
      "2013  Low               0.955601\n",
      "2014  Low               1.872619\n",
      "2015  Low               1.065888\n",
      "2016  Low               0.560348\n",
      "Name: Popularity, dtype: float64\n"
     ]
    },
    {
     "data": {
      "image/png": "[encoded data removed]",
      "text/plain": [
       "<matplotlib.figure.Figure at 0xd1b8978>"
      ]
     },
     "metadata": {},
     "output_type": "display_data"
    }
   ],
   "source": [
    "#Visualise the result\n",
    "\n",
    "# Setting the positions and width for the bars\n",
    "pos = list(range(len(new_df.query('Revenue_levels ==\"Low\"'))))\n",
    "width = 0.2 \n",
    "fig, ax = plt.subplots(figsize=(10,5))\n",
    "print( new_df.query('Revenue_levels ==\"Low\"')['Popularity'])\n",
    "# Create a bar with Low data, in position pos,\n",
    "plt.bar(pos, \n",
    "        new_df.query('Revenue_levels ==\"Low\"')['Popularity'], \n",
    "        width, \n",
    "        color='green', \n",
    "        label= 'Low') \n",
    "\n",
    "plt.bar([(p + width) for p in pos], \n",
    "        #using Medium data,\n",
    "        new_df.query('Revenue_levels ==\"Medium\"')['Popularity'],\n",
    "        width, \n",
    "        color='yellow', \n",
    "        label='Medium') \n",
    "\n",
    "plt.bar([p + width*2 for p in pos], \n",
    "        new_df.query('Revenue_levels ==\"Moderately High\"')['Popularity'], \n",
    "        width, \n",
    "        color='blue', \n",
    "        label='Moderately High') \n",
    "\n",
    "plt.bar([p + width*3 for p in pos], \n",
    "        new_df.query('Revenue_levels ==\"High\"')['Popularity'], \n",
    "        width, \n",
    "        color='grey', \n",
    "        label='High')\n",
    "\n",
    "ax.set_ylabel('popularity')\n",
    "ax.set_title('Popularity in Different Revenue Levels in Recent Years')\n",
    "\n",
    "ax.set_xticks([p + 1.5 * width for p in pos])\n",
    "ax.set_xticklabels([2012,2013,2014,2015,2016])\n",
    "\n",
    "plt.legend( loc='upper left')\n",
    "plt.grid()\n",
    "plt.show()"
   ]
  },
  {
   "cell_type": "markdown",
   "metadata": {},
   "source": [
    "I infer that a high revenue movie is always with a higher popularity than movies with lower revenue levels and that is reasonable.So if we define success of a movie is it's revenue, one property it has is the high popularity."
   ]
  },
  {
   "cell_type": "markdown",
   "metadata": {},
   "source": [
    "<a id='q4.2'></a>\n",
    "### Question 4.2: Is budget associated with movies that have high popularity"
   ]
  },
  {
   "cell_type": "code",
   "execution_count": 90,
   "metadata": {},
   "outputs": [
    {
     "data": {
      "text/plain": [
       "Budget_levels\n",
       "Low                1.827118\n",
       "Medium             1.981672\n",
       "Moderately High    2.227467\n",
       "High               4.283168\n",
       "Name: Popularity, dtype: float64"
      ]
     },
     "execution_count": 90,
     "metadata": {},
     "output_type": "execute_result"
    }
   ],
   "source": [
    "df = divide_quantile(movie_data,'Budget')\n",
    "df_mean = df.groupby('Budget_levels')['Popularity'].mean()\n",
    "df_mean "
   ]
  },
  {
   "cell_type": "code",
   "execution_count": 91,
   "metadata": {},
   "outputs": [
    {
     "data": {
      "text/plain": [
       "<matplotlib.legend.Legend at 0xd27a358>"
      ]
     },
     "execution_count": 91,
     "metadata": {},
     "output_type": "execute_result"
    },
    {
     "data": {
      "image/png": "[encoded data removed]",
      "text/plain": [
       "<matplotlib.figure.Figure at 0xca90f98>"
      ]
     },
     "metadata": {},
     "output_type": "display_data"
    }
   ],
   "source": [
    "index = np.arange(len(df_mean))  \n",
    "width = 0.3     \n",
    "sns.set_style('darkgrid')\n",
    "\n",
    "bars = plt.bar(index,df_mean, width, color='blue',label='mean')\n",
    "\n",
    "plt.ylabel('Popularity')\n",
    "plt.xlabel('Budget levels')\n",
    "plt.title('Popularity with Budget Levels')\n",
    "locations = index\n",
    "labels = df_mean.index  \n",
    "plt.xticks(locations, labels)\n",
    "\n",
    "plt.legend() "
   ]
  },
  {
   "cell_type": "markdown",
   "metadata": {},
   "source": [
    "we can see that movies with higher popularity are with higher budget level and that is reasonable since movies with higher popularity may has a higher promoting advertising cost. With high promotion level people always have more probability to get know these movies. "
   ]
  },
  {
   "cell_type": "markdown",
   "metadata": {},
   "source": [
    "<a id='q4.3'></a>\n",
    "### Question 4.3: Is runtime associated with movies that have high popularity on average"
   ]
  },
  {
   "cell_type": "code",
   "execution_count": 92,
   "metadata": {},
   "outputs": [
    {
     "data": {
      "text/plain": [
       "Runtime_levels\n",
       "Low                1.246420\n",
       "Medium             1.483329\n",
       "Moderately High    1.800356\n",
       "High               2.422923\n",
       "Name: Popularity, dtype: float64"
      ]
     },
     "execution_count": 92,
     "metadata": {},
     "output_type": "execute_result"
    }
   ],
   "source": [
    "df = divide_quantile(movie_data,'Runtime')\n",
    "df_median = df.groupby('Runtime_levels')['Popularity'].median()\n",
    "df_median"
   ]
  },
  {
   "cell_type": "code",
   "execution_count": 93,
   "metadata": {},
   "outputs": [
    {
     "data": {
      "text/plain": [
       "<matplotlib.legend.Legend at 0xd28b908>"
      ]
     },
     "execution_count": 93,
     "metadata": {},
     "output_type": "execute_result"
    },
    {
     "data": {
      "image/png": "[encoded data removed]",
      "text/plain": [
       "<matplotlib.figure.Figure at 0xc9460f0>"
      ]
     },
     "metadata": {},
     "output_type": "display_data"
    }
   ],
   "source": [
    "index = np.arange(len(df_median))  \n",
    "width = 0.3     \n",
    "sns.set_style('darkgrid')\n",
    "\n",
    "bars = plt.bar(index,df_median, width, color='blue',label='median')\n",
    "\n",
    "plt.ylabel('Popularity')\n",
    "plt.xlabel('Runtime levels')\n",
    "plt.title('Popularity with Runtime Levels')\n",
    "locations = index\n",
    "labels = df_median.index  \n",
    "plt.xticks(locations, labels)\n",
    "\n",
    "plt.legend()"
   ]
  },
  {
   "cell_type": "markdown",
   "metadata": {},
   "source": [
    "We can see that the higher popularity movies has longer run time."
   ]
  },
  {
   "cell_type": "markdown",
   "metadata": {},
   "source": [
    "<a id='q4.4'></a>\n",
    "### Question 4.4: What casts, directors, genres associated with high popularity"
   ]
  },
  {
   "cell_type": "code",
   "execution_count": 94,
   "metadata": {
    "collapsed": true
   },
   "outputs": [],
   "source": [
    "# Select Top 200 popular movies.\n",
    "df_top = movie_data.sort_values(['Year','Popularity'], ascending=[True, False])\n",
    "df_top = df_top.groupby('Year').head(200).reset_index(drop=True)\n",
    "\n",
    "# the last 200 popular movies in every year\n",
    "df_low = movie_data.sort_values(['Year','Popularity'], ascending=[True, True])\n",
    "df_low = df_low.groupby('Year').head(200).reset_index(drop=True)"
   ]
  },
  {
   "cell_type": "code",
   "execution_count": 95,
   "metadata": {},
   "outputs": [
    {
     "name": "stdout",
     "output_type": "stream",
     "text": [
      "             p_cast          p_director p_genres\n",
      "0    Christian Bale        Ridley Scott    Drama\n",
      "1     Mark Wahlberg  M. Night Shyamalan   Action\n",
      "2   Woody Harrelson         Michael Bay   Comedy\n"
     ]
    }
   ],
   "source": [
    "c = find_top(df_top.Actors,num=3)\n",
    "d = find_top(df_top.Director,num=3)\n",
    "g = find_top(df_top.Genre,num=3)\n",
    "\n",
    "#create a dataframe.\n",
    "df_popular = pd.DataFrame({'p_cast': c.index, 'p_director': d.index,'p_genres': g.index})\n",
    "print(df_popular)\n"
   ]
  },
  {
   "cell_type": "code",
   "execution_count": 96,
   "metadata": {},
   "outputs": [
    {
     "name": "stdout",
     "output_type": "stream",
     "text": [
      "  u_Genres          u_cast          u_director\n",
      "0    Drama  Christian Bale        Ridley Scott\n",
      "1   Action   Mark Wahlberg  Paul W.S. Anderson\n",
      "2   Comedy       Brad Pitt         David Yates\n"
     ]
    }
   ],
   "source": [
    "act = find_top(df_low.Actors,3)\n",
    "dir = find_top(df_low.Director,3)\n",
    "gen = find_top(df_low.Genre,3)\n",
    "\n",
    "#create a dataframe.\n",
    "df_unpopular = pd.DataFrame({'u_cast': act.index, 'u_director': dir.index,'u_Genres': gen.index})\n",
    "print(df_unpopular)"
   ]
  },
  {
   "cell_type": "markdown",
   "metadata": {},
   "source": [
    " we can see in the table above Cast `Mark Wahlberg`,`Christian Bale` appeared in both popular and unpopular movies(I think they do have the huge popularity in past years);\n",
    " Director `Ridley Scott` and `David Yates` appeared in both popular and unpopular movies(They got many awards and honors for their high quality and popular work)\n",
    " All three genres `Drama`, `Comedy`, `Action` appeared in both popular and unpopular movies(Inferred that these genres are common in the movie industry.)\n",
    "\n"
   ]
  },
  {
   "cell_type": "markdown",
   "metadata": {},
   "source": [
    "<a id='q5'></a>\n",
    "## Question 5: Properties associated with movies that have high voting score in recent years"
   ]
  },
  {
   "cell_type": "markdown",
   "metadata": {},
   "source": [
    "<a id='q5.1'></a>\n",
    "### Question 5.1: Is revenue affecting the voting score of the movie"
   ]
  },
  {
   "cell_type": "code",
   "execution_count": 97,
   "metadata": {},
   "outputs": [
    {
     "data": {
      "text/html": [
       "<div>\n",
       "<style>\n",
       "    .dataframe thead tr:only-child th {\n",
       "        text-align: right;\n",
       "    }\n",
       "\n",
       "    .dataframe thead th {\n",
       "        text-align: left;\n",
       "    }\n",
       "\n",
       "    .dataframe tbody tr th {\n",
       "        vertical-align: top;\n",
       "    }\n",
       "</style>\n",
       "<table border=\"1\" class=\"dataframe\">\n",
       "  <thead>\n",
       "    <tr style=\"text-align: right;\">\n",
       "      <th></th>\n",
       "      <th></th>\n",
       "      <th>Rank</th>\n",
       "      <th>Runtime</th>\n",
       "      <th>Rating</th>\n",
       "      <th>Votes</th>\n",
       "      <th>Revenue</th>\n",
       "      <th>Metascore</th>\n",
       "      <th>Budget</th>\n",
       "      <th>Vote_Average</th>\n",
       "      <th>Popularity</th>\n",
       "    </tr>\n",
       "    <tr>\n",
       "      <th>Year</th>\n",
       "      <th>Revenue_levels</th>\n",
       "      <th></th>\n",
       "      <th></th>\n",
       "      <th></th>\n",
       "      <th></th>\n",
       "      <th></th>\n",
       "      <th></th>\n",
       "      <th></th>\n",
       "      <th></th>\n",
       "      <th></th>\n",
       "    </tr>\n",
       "  </thead>\n",
       "  <tbody>\n",
       "    <tr>\n",
       "      <th rowspan=\"4\" valign=\"top\">2012</th>\n",
       "      <th>Low</th>\n",
       "      <td>650.0</td>\n",
       "      <td>113.0</td>\n",
       "      <td>7.15</td>\n",
       "      <td>174189.5</td>\n",
       "      <td>17.210</td>\n",
       "      <td>63.0</td>\n",
       "      <td>17000000.0</td>\n",
       "      <td>6.55</td>\n",
       "      <td>1.169834</td>\n",
       "    </tr>\n",
       "    <tr>\n",
       "      <th>Medium</th>\n",
       "      <td>633.0</td>\n",
       "      <td>98.5</td>\n",
       "      <td>6.45</td>\n",
       "      <td>159244.0</td>\n",
       "      <td>51.860</td>\n",
       "      <td>48.5</td>\n",
       "      <td>30000000.0</td>\n",
       "      <td>6.00</td>\n",
       "      <td>1.374300</td>\n",
       "    </tr>\n",
       "    <tr>\n",
       "      <th>Moderately High</th>\n",
       "      <td>441.0</td>\n",
       "      <td>123.0</td>\n",
       "      <td>6.85</td>\n",
       "      <td>236017.5</td>\n",
       "      <td>89.385</td>\n",
       "      <td>66.0</td>\n",
       "      <td>68250000.0</td>\n",
       "      <td>6.15</td>\n",
       "      <td>1.988952</td>\n",
       "    </tr>\n",
       "    <tr>\n",
       "      <th>High</th>\n",
       "      <td>303.5</td>\n",
       "      <td>139.0</td>\n",
       "      <td>7.30</td>\n",
       "      <td>453183.0</td>\n",
       "      <td>227.955</td>\n",
       "      <td>68.5</td>\n",
       "      <td>167500000.0</td>\n",
       "      <td>6.70</td>\n",
       "      <td>3.664694</td>\n",
       "    </tr>\n",
       "  </tbody>\n",
       "</table>\n",
       "</div>"
      ],
      "text/plain": [
       "                       Rank  Runtime  Rating     Votes  Revenue  Metascore  \\\n",
       "Year Revenue_levels                                                          \n",
       "2012 Low              650.0    113.0    7.15  174189.5   17.210       63.0   \n",
       "     Medium           633.0     98.5    6.45  159244.0   51.860       48.5   \n",
       "     Moderately High  441.0    123.0    6.85  236017.5   89.385       66.0   \n",
       "     High             303.5    139.0    7.30  453183.0  227.955       68.5   \n",
       "\n",
       "                           Budget  Vote_Average  Popularity  \n",
       "Year Revenue_levels                                          \n",
       "2012 Low               17000000.0          6.55    1.169834  \n",
       "     Medium            30000000.0          6.00    1.374300  \n",
       "     Moderately High   68250000.0          6.15    1.988952  \n",
       "     High             167500000.0          6.70    3.664694  "
      ]
     },
     "execution_count": 97,
     "metadata": {},
     "output_type": "execute_result"
    }
   ],
   "source": [
    "# group the dataframe new_df with each revenue levels in each year\n",
    "new_df = new_df.groupby(['Year','Revenue_levels']).mean()\n",
    "new_df.head(4)"
   ]
  },
  {
   "cell_type": "code",
   "execution_count": 98,
   "metadata": {},
   "outputs": [
    {
     "name": "stdout",
     "output_type": "stream",
     "text": [
      "Year  Revenue_levels\n",
      "2012  Low               6.55\n",
      "2013  Low               6.60\n",
      "2014  Low               6.45\n",
      "2015  Low               6.15\n",
      "2016  Low               6.40\n",
      "Name: Vote_Average, dtype: float64\n"
     ]
    },
    {
     "data": {
      "image/png": "[encoded data removed]",
      "text/plain": [
       "<matplotlib.figure.Figure at 0xbf647f0>"
      ]
     },
     "metadata": {},
     "output_type": "display_data"
    }
   ],
   "source": [
    "#Visualise the result\n",
    "\n",
    "# Setting the positions and width for the bars\n",
    "pos = list(range(len(new_df.query('Revenue_levels ==\"Low\"'))))\n",
    "width = 0.2 \n",
    "fig, ax = plt.subplots(figsize=(10,5))\n",
    "print( new_df.query('Revenue_levels ==\"Low\"')['Vote_Average'])\n",
    "# Create a bar with Low data, in position pos,\n",
    "plt.bar(pos, \n",
    "        new_df.query('Revenue_levels ==\"Low\"')['Vote_Average'], \n",
    "        width, \n",
    "        color='green', \n",
    "        label= 'Low') \n",
    "\n",
    "plt.bar([(p + width) for p in pos], \n",
    "        new_df.query('Revenue_levels ==\"Medium\"')['Vote_Average'],\n",
    "        width, \n",
    "        color='yellow', \n",
    "        label='Medium') \n",
    "\n",
    "plt.bar([p + width*2 for p in pos], \n",
    "        new_df.query('Revenue_levels ==\"Moderately High\"')['Vote_Average'], \n",
    "        width, \n",
    "        color='blue', \n",
    "        label='Moderately High') \n",
    "\n",
    "plt.bar([p + width*3 for p in pos], \n",
    "        new_df.query('Revenue_levels ==\"High\"')['Vote_Average'], \n",
    "        width, \n",
    "        color='grey', \n",
    "        label='High')\n",
    "\n",
    "ax.set_ylabel('Vote_Average')\n",
    "ax.set_title('Votes in Different Revenue Levels in Recent Years')\n",
    "\n",
    "ax.set_xticks([p + 1.5 * width for p in pos])\n",
    "ax.set_xticklabels([2012,2013,2014,2015,2016])\n",
    "\n",
    "plt.legend( loc='upper left')\n",
    "plt.grid()\n",
    "plt.show()"
   ]
  },
  {
   "cell_type": "markdown",
   "metadata": {},
   "source": [
    "we can see that there is no big difference of movie rating between each revenue level. So it can be concluded that the high revenue movies don't have the significant high score rating."
   ]
  },
  {
   "cell_type": "markdown",
   "metadata": {},
   "source": [
    "<a id='q5.2'></a>\n",
    "### Question 5.2: Is budget associated with movies that have high score"
   ]
  },
  {
   "cell_type": "code",
   "execution_count": 99,
   "metadata": {},
   "outputs": [
    {
     "data": {
      "text/plain": [
       "Budget_levels\n",
       "Low                6.629687\n",
       "Medium             6.538571\n",
       "Moderately High    6.460870\n",
       "High               6.518841\n",
       "Name: Vote_Average, dtype: float64"
      ]
     },
     "execution_count": 99,
     "metadata": {},
     "output_type": "execute_result"
    }
   ],
   "source": [
    "df = divide_quantile(movie_data,'Budget')\n",
    "df_mean_b = df.groupby('Budget_levels')['Vote_Average'].mean()\n",
    "df_mean_b"
   ]
  },
  {
   "cell_type": "code",
   "execution_count": 100,
   "metadata": {},
   "outputs": [
    {
     "data": {
      "text/plain": [
       "<matplotlib.legend.Legend at 0xcc20908>"
      ]
     },
     "execution_count": 100,
     "metadata": {},
     "output_type": "execute_result"
    },
    {
     "data": {
      "image/png": "[encoded data removed]",
      "text/plain": [
       "<matplotlib.figure.Figure at 0xc90d198>"
      ]
     },
     "metadata": {},
     "output_type": "display_data"
    }
   ],
   "source": [
    "index_b = np.arange(len(df_mean_b))  \n",
    "width = 0.3     \n",
    "sns.set_style('darkgrid')\n",
    "\n",
    "bars = plt.bar(index_b,df_mean_b, width, color='blue',label='mean')\n",
    "\n",
    "plt.ylabel('Vote_Average')\n",
    "plt.xlabel('Budget levels')\n",
    "plt.title('Voting with Budget Levels')\n",
    "locations = index_b\n",
    "labels = df_mean.index  \n",
    "plt.xticks(locations, labels)\n",
    "\n",
    "plt.legend() "
   ]
  },
  {
   "cell_type": "markdown",
   "metadata": {},
   "source": [
    "We can see that there is no big difference in rating at different budget levels. So from the result, maybe high budget of a movie is not necessary for a good quality of movie.."
   ]
  },
  {
   "cell_type": "markdown",
   "metadata": {},
   "source": [
    "<a id='q5.3'></a>\n",
    "### Question 5.3: Is runtime associated with movies that have high score on average"
   ]
  },
  {
   "cell_type": "code",
   "execution_count": 101,
   "metadata": {},
   "outputs": [
    {
     "data": {
      "text/plain": [
       "Runtime_levels\n",
       "Low                6.230065\n",
       "Medium             6.363636\n",
       "Moderately High    6.554598\n",
       "High               6.779348\n",
       "Name: Vote_Average, dtype: float64"
      ]
     },
     "execution_count": 101,
     "metadata": {},
     "output_type": "execute_result"
    }
   ],
   "source": [
    "df_mean_r = df.groupby('Runtime_levels')['Vote_Average'].mean()\n",
    "df_mean_r"
   ]
  },
  {
   "cell_type": "code",
   "execution_count": 102,
   "metadata": {},
   "outputs": [
    {
     "data": {
      "image/png": "[encoded data removed]",
      "text/plain": [
       "<matplotlib.figure.Figure at 0xc215eb8>"
      ]
     },
     "metadata": {},
     "output_type": "display_data"
    }
   ],
   "source": [
    "index_r = np.arange(len(df_mean_r))  \n",
    "width = 0.3     \n",
    "sns.set_style('darkgrid')\n",
    "\n",
    "bars = plt.bar(index_r,df_mean_r, width, color='blue',label='mean')\n",
    "\n",
    "plt.ylabel('Vote_Average')\n",
    "plt.xlabel('Runtime levels')\n",
    "plt.title('Voting with Runtime Levels')\n",
    "locations = index_r\n",
    "labels = df_mean_r.index\n",
    "plt.xticks(locations, labels)\n",
    "\n",
    "plt.legend()\n",
    "plt.show()"
   ]
  },
  {
   "cell_type": "markdown",
   "metadata": {},
   "source": [
    "We can see that there is no big difference in average voting score in different runtime levels. So from the result, maybe long runtime of a movie is not necessary to a good quality of movie.."
   ]
  },
  {
   "cell_type": "markdown",
   "metadata": {},
   "source": [
    "<a id='q5.4'></a>\n",
    "### Question 5.4: What casts, directors, genres associated with high score"
   ]
  },
  {
   "cell_type": "code",
   "execution_count": 103,
   "metadata": {
    "collapsed": true
   },
   "outputs": [],
   "source": [
    "#Top 200 with higher votes movies.\n",
    "df_top_v = movie_data.sort_values(['Year','Vote_Average'], ascending=[True, False])\n",
    "df_top_v = df_top.groupby('Year').head(200).reset_index(drop=True)\n",
    "\n",
    "#Last 200 votes movies.\n",
    "df_low_v = movie_data.sort_values(['Year','Vote_Average'], ascending=[True, True])\n",
    "df_low_v = df_low.groupby('Year').head(200).reset_index(drop=True)"
   ]
  },
  {
   "cell_type": "code",
   "execution_count": 104,
   "metadata": {},
   "outputs": [
    {
     "name": "stdout",
     "output_type": "stream",
     "text": [
      "             h_cast          h_director h_genres\n",
      "0    Christian Bale        Ridley Scott    Drama\n",
      "1     Mark Wahlberg  M. Night Shyamalan   Action\n",
      "2   Woody Harrelson         Michael Bay   Comedy\n"
     ]
    }
   ],
   "source": [
    "c_v = find_top(df_top_v.Actors,num=3)\n",
    "d_v = find_top(df_top_v.Director,num=3)\n",
    "g_v = find_top(df_top_v.Genre,num=3)\n",
    "\n",
    "#create a dataframe.\n",
    "df_popular_v = pd.DataFrame({'h_cast': c_v.index, 'h_director': d_v.index,'h_genres': g_v.index})\n",
    "print(df_popular_v)"
   ]
  },
  {
   "cell_type": "code",
   "execution_count": 105,
   "metadata": {},
   "outputs": [
    {
     "name": "stdout",
     "output_type": "stream",
     "text": [
      "  l_Genres          l_cast          l_director\n",
      "0    Drama  Christian Bale        Ridley Scott\n",
      "1   Action   Mark Wahlberg  Paul W.S. Anderson\n",
      "2   Comedy       Brad Pitt         David Yates\n"
     ]
    }
   ],
   "source": [
    "act = find_top(df_low_v.Actors,3)\n",
    "dir = find_top(df_low_v.Director,3)\n",
    "gen = find_top(df_low_v.Genre,3)\n",
    "\n",
    "#create a dataframe.\n",
    "df_unpopular_v = pd.DataFrame({'l_cast': act.index, 'l_director': dir.index,'l_Genres': gen.index})\n",
    "print(df_unpopular_v)"
   ]
  },
  {
   "cell_type": "markdown",
   "metadata": {},
   "source": [
    "`Ridley Scott` and `David Yates` have made top quality movies on average over the past years.\n",
    "\n",
    "`Mark Wahlberg` and `Christian Bale`, they are known for their good work and do have the huge popularity ."
   ]
  },
  {
   "cell_type": "markdown",
   "metadata": {},
   "source": [
    "<a id='conclusion'></a>\n",
    "## Conclusion"
   ]
  },
  {
   "cell_type": "markdown",
   "metadata": {},
   "source": [
    "- This was a very interesting data analysis. I came out with the following interesting facts for a movie to be successful :\n",
    "\n",
    "    - Initially explored few of the general questions. The result turned out to be:-\n",
    " \n",
    "         - The number of movie released are increasing. It is accelerated growth trend.\n",
    "         - Movie popularity trend is growing on an average. \n",
    "         - Genre Drama are the most filmed in almost all years.\n",
    "         \n",
    "    - Moreover, I focused on properties that are associated with high popularity movies and found movies with higher         revenue level are with higher popularity in recent years on average and also with high budget levels and longer       run time.\n",
    " \n",
    "         - Cast associated with high popularity movies are `Mark Wahlberg`,`Christian Bale`; director associated are             `Ridley Scott` and `David Yates`; genres associated with high popularity movies are `Drama`, `Comedy`,                 `Action` but they also appeared in the most unpopular movies.\n",
    "       \n",
    "    - Next I focused on what are the properties that are associated with high voting score and found movies with             higher revenue level don't have the significant high score rating in recent years,resulted me to know more             about the properties that are affects the rating of the movie.\n",
    "    \n",
    "         - Runtime and budget don't have obvious significance on high rating.In other words, low budget may still have            a high rating. \n",
    " \n",
    "         - Director `Martin Scorsese` and `Clint Eastwood` have made top quality movies on average over the past few               years ; `Mark Wahlberg` and `Christian Bale`, they have a huge popularity for their good work.\n",
    "   \n"
   ]
  },
  {
   "cell_type": "code",
   "execution_count": null,
   "metadata": {
    "collapsed": true
   },
   "outputs": [],
   "source": []
  }
 ],
 "metadata": {
  "kernelspec": {
   "display_name": "Python 3",
   "language": "python",
   "name": "python3"
  },
  "language_info": {
   "codemirror_mode": {
    "name": "ipython",
    "version": 3
   },
   "file_extension": ".py",
   "mimetype": "text/x-python",
   "name": "python",
   "nbconvert_exporter": "python",
   "pygments_lexer": "ipython3",
   "version": "3.7.0"
  }
 },
 "nbformat": 4,
 "nbformat_minor": 2
}
